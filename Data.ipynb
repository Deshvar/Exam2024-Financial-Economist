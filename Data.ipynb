{
 "cells": [
  {
   "cell_type": "code",
   "execution_count": 4,
   "metadata": {},
   "outputs": [
    {
     "ename": "NameError",
     "evalue": "name 'covariance_matrix' is not defined",
     "output_type": "error",
     "traceback": [
      "\u001b[0;31m---------------------------------------------------------------------------\u001b[0m",
      "\u001b[0;31mNameError\u001b[0m                                 Traceback (most recent call last)",
      "Cell \u001b[0;32mIn[4], line 25\u001b[0m\n\u001b[1;32m     22\u001b[0m \u001b[38;5;28;01mexcept\u001b[39;00m \u001b[38;5;167;01mException\u001b[39;00m \u001b[38;5;28;01mas\u001b[39;00m e:\n\u001b[1;32m     23\u001b[0m     e\n\u001b[0;32m---> 25\u001b[0m \u001b[43mcovariance_matrix\u001b[49m\n",
      "\u001b[0;31mNameError\u001b[0m: name 'covariance_matrix' is not defined"
     ]
    }
   ],
   "source": [
    "import pandas as pd\n",
    "\n",
    "# File paths\n",
    "file1_path = '/mnt/data/covariance_matrix.xlsx'\n",
    "file2_path = '/mnt/data/init_values.xlsx'\n",
    "\n",
    "# Load the Excel files\n",
    "try:\n",
    "    covariance_matrix = pd.ExcelFile(file1_path)\n",
    "    init_values = pd.ExcelFile(file2_path)\n",
    "\n",
    "    # Display the sheet names\n",
    "    covariance_sheets = covariance_matrix.sheet_names\n",
    "    init_values_sheets = init_values.sheet_names\n",
    "\n",
    "    # Load the first sheet from each file to preview the data\n",
    "    covariance_data = covariance_matrix.parse(covariance_sheets[0]).head()\n",
    "    init_values_data = init_values.parse(init_values_sheets[0]).head()\n",
    "    \n",
    "    # Display results to the user\n",
    "    covariance_sheets, covariance_data, init_values_sheets, init_values_data\n",
    "except Exception as e:\n",
    "    e\n",
    "\n",
    "covariance_matrix\n"
   ]
  }
 ],
 "metadata": {
  "kernelspec": {
   "display_name": "Python 3",
   "language": "python",
   "name": "python3"
  },
  "language_info": {
   "codemirror_mode": {
    "name": "ipython",
    "version": 3
   },
   "file_extension": ".py",
   "mimetype": "text/x-python",
   "name": "python",
   "nbconvert_exporter": "python",
   "pygments_lexer": "ipython3",
   "version": "3.12.1"
  }
 },
 "nbformat": 4,
 "nbformat_minor": 2
}
